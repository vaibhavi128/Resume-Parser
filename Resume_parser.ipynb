{
 "cells": [
  {
   "cell_type": "code",
   "execution_count": 1,
   "id": "6641e943-293c-47ac-86cd-2f280a28941d",
   "metadata": {},
   "outputs": [
    {
     "name": "stdout",
     "output_type": "stream",
     "text": [
      "Requirement already satisfied: pypdf2 in c:\\python312\\lib\\site-packages (3.0.1)\n",
      "Note: you may need to restart the kernel to use updated packages.\n"
     ]
    },
    {
     "name": "stderr",
     "output_type": "stream",
     "text": [
      "\n",
      "[notice] A new release of pip is available: 25.0.1 -> 25.1.1\n",
      "[notice] To update, run: python.exe -m pip install --upgrade pip\n"
     ]
    }
   ],
   "source": [
    "pip install pypdf2"
   ]
  },
  {
   "cell_type": "code",
   "execution_count": null,
   "id": "c0b1cb65",
   "metadata": {},
   "outputs": [],
   "source": []
  },
  {
   "cell_type": "code",
   "execution_count": 2,
   "id": "99a01eea-c5c9-4ae3-920b-85736861b06e",
   "metadata": {},
   "outputs": [
    {
     "name": "stdout",
     "output_type": "stream",
     "text": [
      "\n",
      "📄 **Resume Details:**\n",
      "Name: Vaibhavi Kolhe\n",
      "Email: vaibhavikolhe12@gmail.com\n",
      "Phone: +91-8999795135\n",
      "Skills: ['Python', 'Java', 'C++', 'Machine Learning']\n",
      "Education: []\n"
     ]
    }
   ],
   "source": [
    "import re\n",
    "import docx2txt\n",
    "from PyPDF2 import PdfReader\n",
    "\n",
    "def extract_text_from_pdf(pdf_path):\n",
    "    text = \"\"\n",
    "    with open(pdf_path, \"rb\") as file:\n",
    "        reader = PdfReader(file)\n",
    "        for page in reader.pages:\n",
    "            text += page.extract_text() + \"\\n\"\n",
    "    return text.strip()\n",
    "\n",
    "\n",
    "def extract_text_from_docx(docx_path):\n",
    "    return docx2txt.process(docx_path).strip()\n",
    "\n",
    "\n",
    "def extract_email(text):\n",
    "    match = re.search(r\"[a-zA-Z0-9._%+-]+@[a-zA-Z0-9.-]+\\.[a-zA-Z]{2,4}\", text)\n",
    "    return match.group(0) if match else None\n",
    "\n",
    "\n",
    "def extract_phone(text):\n",
    "    match = re.search(r\"\\+?\\d[\\d\\s-]{8,14}\\d\", text)\n",
    "    return match.group(0) if match else None\n",
    "\n",
    "\n",
    "def extract_skills(text):\n",
    "    skills_db = [\"Python\", \"Java\", \"C++\", \"Machine Learning\", \"Data Science\", \"Flask\", \"Django\"]\n",
    "    return [skill for skill in skills_db if skill.lower() in text.lower()]\n",
    "\n",
    "\n",
    "def extract_name(text):\n",
    "    return text.split(\"\\n\")[0] if text else None\n",
    "\n",
    "def extract_education(text):\n",
    "    edu_keywords = [\"Bachelor\", \"Master\", \"PhD\", \"B.Sc\", \"M.Sc\", \"B.Tech\", \"M.Tech\", \"B.E\", \"M.E\"]\n",
    "    return [edu for edu in edu_keywords if edu.lower() in text.lower()]\n",
    "\n",
    "\n",
    "def parse_resume(file_path):\n",
    "    file_type = file_path.split(\".\")[-1].lower()\n",
    "    \n",
    "    if file_type == \"pdf\":\n",
    "        text = extract_text_from_pdf(file_path)\n",
    "    elif file_type == \"docx\":\n",
    "        text = extract_text_from_docx(file_path)\n",
    "    else:\n",
    "        print(\"❌ Unsupported file type\")\n",
    "        return\n",
    "\n",
    "    parsed_data = {\n",
    "        \"Name\": extract_name(text),\n",
    "        \"Email\": extract_email(text),\n",
    "        \"Phone\": extract_phone(text),\n",
    "        \"Skills\": extract_skills(text),\n",
    "        \"Education\": extract_education(text),\n",
    "    }\n",
    "\n",
    "    print(\"\\n📄 **Resume Details:**\")\n",
    "    for key, value in parsed_data.items():\n",
    "        print(f\"{key}: {value}\")\n",
    "\n",
    "if __name__ == \"__main__\":\n",
    "    file_path = r\"Resume.pdf\"\n",
    "    parse_resume(file_path)\n"
   ]
  },
  {
   "cell_type": "code",
   "execution_count": null,
   "id": "9e5e1afd-dd1f-48da-b1dc-90e86e4e52c0",
   "metadata": {},
   "outputs": [],
   "source": []
  },
  {
   "cell_type": "code",
   "execution_count": null,
   "id": "f06a1e2d-cea9-4383-adeb-06abf5ed07ac",
   "metadata": {},
   "outputs": [],
   "source": []
  }
 ],
 "metadata": {
  "kernelspec": {
   "display_name": "Python 3",
   "language": "python",
   "name": "python3"
  },
  "language_info": {
   "codemirror_mode": {
    "name": "ipython",
    "version": 3
   },
   "file_extension": ".py",
   "mimetype": "text/x-python",
   "name": "python",
   "nbconvert_exporter": "python",
   "pygments_lexer": "ipython3",
   "version": "3.12.2"
  }
 },
 "nbformat": 4,
 "nbformat_minor": 5
}
